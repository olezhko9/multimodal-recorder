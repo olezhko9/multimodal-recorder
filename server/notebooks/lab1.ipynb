{
 "cells": [
  {
   "cell_type": "markdown",
   "metadata": {},
   "source": [
    "МИНИСТЕРСТВО ОБРАЗОВАНИЯ И НАУКИ РОССИЙСКОЙ ФЕДЕРАЦИИ \n",
    "ФЕДЕРАЛЬНОЕ ГОСУДАРСТВЕННОЕ АВТОНОМНОЕ ОБРАЗОВАТЕЛЬНОЕ УЧРЕЖДЕНИЕ ВЫСШЕГО ОБРАЗОВАНИЯ \n",
    "\n",
    "«Санкт-Петербургский национальный исследовательский университет \n",
    "информационных технологий, механики и оптики» \n",
    "\n",
    "Факультет программной инженерии и компьютерной техники  \n",
    "\n",
    "Отчет по лабораторной работе № 1\n",
    "\n",
    "**Исследование общей вариабельности сердечного ритма**\n",
    "\n",
    "Выполнил студенты группы P42211: Наумов Олег Владимирович \n",
    " \n",
    "Проверил: Штенников Дмитрий Геннадьевич\n",
    "\n",
    "Санкт-Петербург\n",
    "\n",
    "2021"
   ]
  },
  {
   "cell_type": "code",
   "execution_count": null,
   "metadata": {},
   "outputs": [],
   "source": [
    "DATA_DIR = ''"
   ]
  },
  {
   "cell_type": "code",
   "execution_count": null,
   "metadata": {},
   "outputs": [],
   "source": [
    "import matplotlib.pyplot as plt\n",
    "import numpy as np\n",
    "import pandas as pd"
   ]
  },
  {
   "cell_type": "code",
   "execution_count": null,
   "metadata": {
    "colab": {
     "base_uri": "https://localhost:8080/"
    },
    "id": "SJc2DjV5PI_K",
    "outputId": "08eded9d-822d-4142-e781-21909c6e2ce8"
   },
   "outputs": [],
   "source": [
    "data = pd.read_csv(DATA_DIR, header=None)\n",
    "data = data.to_numpy().reshape(1, -1)[0]\n",
    "N = len(data)"
   ]
  },
  {
   "cell_type": "code",
   "execution_count": null,
   "metadata": {
    "colab": {
     "base_uri": "https://localhost:8080/",
     "height": 553
    },
    "id": "h82lHwtcPFXI",
    "outputId": "e78e6740-1ad2-457f-99fb-f702392f15d5"
   },
   "outputs": [],
   "source": [
    "plt.figure(figsize=(16, 9))\n",
    "plt.plot([i for i in range(N)], data)"
   ]
  },
  {
   "cell_type": "code",
   "execution_count": null,
   "metadata": {
    "colab": {
     "base_uri": "https://localhost:8080/"
    },
    "id": "KGddGv4MQM4I",
    "outputId": "b36fbda8-6dfd-456a-d799-04db98c78d32"
   },
   "outputs": [],
   "source": [
    "M = 1/N * np.sum(data)\n",
    "SDNN = (1 / (N - 1) * np.sum(np.power(data - M, 2))) ** (1/2)\n",
    "CV = SDNN / M * 100\n",
    "RMSSD = (1 / (N - 1) * np.sum([(data[i] - data[i + 1])**2 for i in range(N - 1)])) ** (1/2)\n",
    "print(f'M: {M:.3f} мс\\nSDNN: {SDNN:.3f} мс\\nCV: {CV:.3f}%\\nRMSSD: {RMSSD:.3f} мс')"
   ]
  },
  {
   "cell_type": "code",
   "execution_count": null,
   "metadata": {
    "colab": {
     "base_uri": "https://localhost:8080/",
     "height": 537
    },
    "id": "W-UTGo0bSHpI",
    "outputId": "35badc84-cb14-4108-faa8-25ca8dd8549d"
   },
   "outputs": [],
   "source": [
    "ms = 50\n",
    "bins = [i for i in range(0, 1300 + ms, ms)]\n",
    "plt.figure(figsize=(16, 9))\n",
    "plt.xticks(bins)\n",
    "values, *_ = plt.hist(data, bins=bins, rwidth=0.95)\n",
    "for i in range(len(values)):\n",
    "  if values[i] != 0.0:\n",
    "    plt.text(bins[i] + 15, values[i] + 2, str(values[i]))"
   ]
  },
  {
   "cell_type": "code",
   "execution_count": null,
   "metadata": {
    "colab": {
     "base_uri": "https://localhost:8080/"
    },
    "id": "Gy4FTHw6WsuU",
    "outputId": "a4a3b746-fbb7-4bf4-e47e-3d58ab19dcb7"
   },
   "outputs": [],
   "source": [
    "AM0 = np.max(values)\n",
    "M0 = (bins[np.argmax(values)] + bins[np.argmax(values) + 1]) / 2\n",
    "print(f'M0: {M0:n}мс\\nAM0: {AM0:n} ({AM0 / N * 100:.2f}%)')"
   ]
  },
  {
   "cell_type": "code",
   "execution_count": null,
   "metadata": {
    "colab": {
     "base_uri": "https://localhost:8080/"
    },
    "id": "xFrfV7gsY6fn",
    "outputId": "becc8459-b0f7-4675-de79-59c705ed741c"
   },
   "outputs": [],
   "source": [
    "non_zero_intervals = np.where(values > 0)[0]\n",
    "Mn = bins[non_zero_intervals[0]]\n",
    "Mx = bins[non_zero_intervals[-1] + 1]\n",
    "MxDMn = Mx - Mn\n",
    "print(f'MxDMn: {MxDMn}')\n",
    "\n",
    "SI = AM0 * 100 / (2 * M0 * MxDMn)\n",
    "print(f'SI: {SI:.3f}%')"
   ]
  }
 ],
 "metadata": {
  "colab": {
   "collapsed_sections": [],
   "name": "Lab 1. Naumov OV",
   "provenance": []
  },
  "kernelspec": {
   "display_name": "Python 3 (ipykernel)",
   "language": "python",
   "name": "python3"
  },
  "language_info": {
   "codemirror_mode": {
    "name": "ipython",
    "version": 3
   },
   "file_extension": ".py",
   "mimetype": "text/x-python",
   "name": "python",
   "nbconvert_exporter": "python",
   "pygments_lexer": "ipython3",
   "version": "3.8.10"
  }
 },
 "nbformat": 4,
 "nbformat_minor": 1
}
